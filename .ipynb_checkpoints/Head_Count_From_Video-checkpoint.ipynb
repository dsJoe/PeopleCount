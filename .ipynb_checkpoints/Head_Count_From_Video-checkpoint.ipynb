{
 "cells": [
  {
   "cell_type": "code",
   "execution_count": 1,
   "metadata": {},
   "outputs": [
    {
     "name": "stdout",
     "output_type": "stream",
     "text": [
      "['D:\\\\Joe\\\\D\\\\Project\\\\Gdrive\\\\DmiLap\\\\Project\\\\Commercial\\\\VideoAnlaytics', 'C:\\\\Users\\\\jdas\\\\.conda\\\\envs\\\\deeplearn\\\\python38.zip', 'C:\\\\Users\\\\jdas\\\\.conda\\\\envs\\\\deeplearn\\\\DLLs', 'C:\\\\Users\\\\jdas\\\\.conda\\\\envs\\\\deeplearn\\\\lib', 'C:\\\\Users\\\\jdas\\\\.conda\\\\envs\\\\deeplearn', '', 'C:\\\\Users\\\\jdas\\\\.conda\\\\envs\\\\deeplearn\\\\lib\\\\site-packages', 'C:\\\\Users\\\\jdas\\\\.conda\\\\envs\\\\deeplearn\\\\lib\\\\site-packages\\\\win32', 'C:\\\\Users\\\\jdas\\\\.conda\\\\envs\\\\deeplearn\\\\lib\\\\site-packages\\\\win32\\\\lib', 'C:\\\\Users\\\\jdas\\\\.conda\\\\envs\\\\deeplearn\\\\lib\\\\site-packages\\\\Pythonwin', 'C:\\\\Users\\\\jdas\\\\.conda\\\\envs\\\\deeplearn\\\\lib\\\\site-packages\\\\IPython\\\\extensions', 'C:\\\\Users\\\\jdas\\\\.ipython']\n"
     ]
    }
   ],
   "source": [
    "import sys\n",
    "print(sys.path)"
   ]
  },
  {
   "cell_type": "code",
   "execution_count": 1,
   "metadata": {},
   "outputs": [
    {
     "ename": "ModuleNotFoundError",
     "evalue": "No module named 'h5py'",
     "output_type": "error",
     "traceback": [
      "\u001b[1;31m---------------------------------------------------------------------------\u001b[0m",
      "\u001b[1;31mModuleNotFoundError\u001b[0m                       Traceback (most recent call last)",
      "\u001b[1;32m<ipython-input-1-4002ca57cdcd>\u001b[0m in \u001b[0;36m<module>\u001b[1;34m\u001b[0m\n\u001b[0;32m      4\u001b[0m \u001b[1;32mimport\u001b[0m \u001b[0mtorch\u001b[0m\u001b[1;33m\u001b[0m\u001b[1;33m\u001b[0m\u001b[0m\n\u001b[0;32m      5\u001b[0m \u001b[1;31m#from image import *\u001b[0m\u001b[1;33m\u001b[0m\u001b[1;33m\u001b[0m\u001b[1;33m\u001b[0m\u001b[0m\n\u001b[1;32m----> 6\u001b[1;33m \u001b[1;32mfrom\u001b[0m \u001b[0mmodel\u001b[0m \u001b[1;32mimport\u001b[0m \u001b[0mCSRNet\u001b[0m\u001b[1;33m\u001b[0m\u001b[1;33m\u001b[0m\u001b[0m\n\u001b[0m\u001b[0;32m      7\u001b[0m \u001b[1;32mimport\u001b[0m \u001b[0mtorch\u001b[0m\u001b[1;33m\u001b[0m\u001b[1;33m\u001b[0m\u001b[0m\n\u001b[0;32m      8\u001b[0m \u001b[1;32mimport\u001b[0m \u001b[0mgc\u001b[0m\u001b[1;33m;\u001b[0m \u001b[0mgc\u001b[0m\u001b[1;33m.\u001b[0m\u001b[0mcollect\u001b[0m\u001b[1;33m(\u001b[0m\u001b[1;33m)\u001b[0m\u001b[1;33m\u001b[0m\u001b[1;33m\u001b[0m\u001b[0m\n",
      "\u001b[1;32mD:\\Joe\\D\\Project\\Gdrive\\DmiLap\\Project\\Commercial\\VideoAnlaytics\\PeopleCount\\model.py\u001b[0m in \u001b[0;36m<module>\u001b[1;34m\u001b[0m\n\u001b[0;32m      2\u001b[0m \u001b[1;32mimport\u001b[0m \u001b[0mtorch\u001b[0m\u001b[1;33m\u001b[0m\u001b[1;33m\u001b[0m\u001b[0m\n\u001b[0;32m      3\u001b[0m \u001b[1;32mfrom\u001b[0m \u001b[0mtorchvision\u001b[0m \u001b[1;32mimport\u001b[0m \u001b[0mmodels\u001b[0m\u001b[1;33m\u001b[0m\u001b[1;33m\u001b[0m\u001b[0m\n\u001b[1;32m----> 4\u001b[1;33m \u001b[1;32mfrom\u001b[0m \u001b[0mutils\u001b[0m \u001b[1;32mimport\u001b[0m \u001b[0msave_net\u001b[0m\u001b[1;33m,\u001b[0m\u001b[0mload_net\u001b[0m\u001b[1;33m\u001b[0m\u001b[1;33m\u001b[0m\u001b[0m\n\u001b[0m\u001b[0;32m      5\u001b[0m \u001b[1;33m\u001b[0m\u001b[0m\n\u001b[0;32m      6\u001b[0m \u001b[1;32mclass\u001b[0m \u001b[0mCSRNet\u001b[0m\u001b[1;33m(\u001b[0m\u001b[0mnn\u001b[0m\u001b[1;33m.\u001b[0m\u001b[0mModule\u001b[0m\u001b[1;33m)\u001b[0m\u001b[1;33m:\u001b[0m\u001b[1;33m\u001b[0m\u001b[1;33m\u001b[0m\u001b[0m\n",
      "\u001b[1;32mD:\\Joe\\D\\Project\\Gdrive\\DmiLap\\Project\\Commercial\\VideoAnlaytics\\PeopleCount\\utils.py\u001b[0m in \u001b[0;36m<module>\u001b[1;34m\u001b[0m\n\u001b[1;32m----> 1\u001b[1;33m \u001b[1;32mimport\u001b[0m \u001b[0mh5py\u001b[0m\u001b[1;33m\u001b[0m\u001b[1;33m\u001b[0m\u001b[0m\n\u001b[0m\u001b[0;32m      2\u001b[0m \u001b[1;32mimport\u001b[0m \u001b[0mtorch\u001b[0m\u001b[1;33m\u001b[0m\u001b[1;33m\u001b[0m\u001b[0m\n\u001b[0;32m      3\u001b[0m \u001b[1;32mimport\u001b[0m \u001b[0mshutil\u001b[0m\u001b[1;33m\u001b[0m\u001b[1;33m\u001b[0m\u001b[0m\n\u001b[0;32m      4\u001b[0m \u001b[1;33m\u001b[0m\u001b[0m\n\u001b[0;32m      5\u001b[0m \u001b[1;32mdef\u001b[0m \u001b[0msave_net\u001b[0m\u001b[1;33m(\u001b[0m\u001b[0mfname\u001b[0m\u001b[1;33m,\u001b[0m \u001b[0mnet\u001b[0m\u001b[1;33m)\u001b[0m\u001b[1;33m:\u001b[0m\u001b[1;33m\u001b[0m\u001b[1;33m\u001b[0m\u001b[0m\n",
      "\u001b[1;31mModuleNotFoundError\u001b[0m: No module named 'h5py'"
     ]
    }
   ],
   "source": [
    "import PIL.Image as Image\n",
    "import numpy as np\n",
    "from matplotlib import pyplot as plt\n",
    "import torch\n",
    "from image import *\n",
    "from model import CSRNet\n",
    "import torch\n",
    "import gc; gc.collect()\n",
    "torch.cuda.empty_cache()\n",
    "from torchvision import datasets, transforms"
   ]
  },
  {
   "cell_type": "code",
   "execution_count": null,
   "metadata": {},
   "outputs": [],
   "source": [
    "transform=transforms.Compose([\n",
    "transforms.ToTensor(),transforms.Normalize(mean=[0.485, 0.456, 0.406],\n",
    "std=[0.229, 0.224, 0.225]),\n",
    "])\n",
    "\n",
    "model = CSRNet()\n",
    "model = model.cuda()\n",
    "\n",
    "#loading the trained weights\n",
    "checkpoint = torch.load(‘/home/abc/Downloads/Shanghai/part_A_final/0model_best.pth.tar’)\n",
    "model.load_state_dict(checkpoint[‘state_dict’])\n",
    "\n",
    "from matplotlib import cm as c\n",
    "img = transform(Image.open(“/home/abc/Downloads/Shanghai/xyz.jpg”).convert(‘RGB’)).cuda()\n",
    "\n",
    "output = model(img.unsqueeze(0))\n",
    "print(“Predicted Count : “,int(output.detach().cpu().sum().numpy()))\n",
    "temp = np.asarray(output.detach().cpu().reshape(output.detach().cpu().shape[2],output.detach().cpu().shape[3]))\n",
    "plt.imshow(temp,cmap = c.jet)\n",
    "plt.show()"
   ]
  }
 ],
 "metadata": {
  "kernelspec": {
   "display_name": "Py(dl)",
   "language": "python",
   "name": "dl"
  }
 },
 "nbformat": 4,
 "nbformat_minor": 2
}
